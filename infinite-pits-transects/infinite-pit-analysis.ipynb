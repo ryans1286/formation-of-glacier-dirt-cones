{
 "cells": [
  {
   "cell_type": "code",
   "execution_count": null,
   "id": "c65e59e5",
   "metadata": {},
   "outputs": [],
   "source": [
    "import numpy as np\n",
    "from landlab import RasterModelGrid, imshow_grid\n",
    "import os\n",
    "from landlab.grid.mappers import map_downwind_node_link_mean_to_node\n",
    "import matplotlib.pyplot as plt\n",
    "import glob\n",
    "import natsort\n",
    "import pandas as pd"
   ]
  },
  {
   "cell_type": "code",
   "execution_count": null,
   "id": "53c86337",
   "metadata": {},
   "outputs": [],
   "source": [
    "a = np.loadtxt('infinite-pit-trans_1_flux-ts=3000.txt')\n",
    "rows = 299\n",
    "cols = 299\n",
    "grid = RasterModelGrid((rows, cols), xy_spacing = 0.025)\n",
    "grid.at_link['flux'] = a\n",
    "flux = map_downwind_node_link_mean_to_node(grid, 'flux')\n",
    "\n",
    "imshow_grid(grid, flux)"
   ]
  },
  {
   "cell_type": "code",
   "execution_count": null,
   "id": "15666367",
   "metadata": {},
   "outputs": [],
   "source": [
    "directory = 'fluxes'\n",
    "\n",
    "fluxes = np.zeros((10, 62))\n",
    "circle_radius = [0.25, 0.25, 0.25]\n",
    "circle_center = (299*0.025/2, 299*0.025/2)  # Center of the circle, adjust as needed\n",
    "\n",
    "count = 0\n",
    "for d in natsort.natsorted(os.listdir(directory)):\n",
    "    if os.path.isdir(os.path.join(directory,d)) == True and os.path.join(directory,d) != '2_infinite-pits-transects\\.ipynb_checkpoints':\n",
    "        i = 0\n",
    "        print(os.path.join(directory,d))\n",
    "        for f in natsort.natsorted(glob.glob(os.path.join(directory, d, \"*.txt\"))):\n",
    "            a = np.loadtxt(f)\n",
    "\n",
    "            rows = 299\n",
    "            cols = 299\n",
    "            grid = RasterModelGrid((rows, cols), xy_spacing = 0.025)\n",
    "            grid.at_link['flux'] = a\n",
    "            flux = map_downwind_node_link_mean_to_node(grid, 'flux')\n",
    "            \n",
    "            x_m = 299*0.025/2\n",
    "            y_m = 299*0.025/2\n",
    "\n",
    "            dists = grid.calc_distances_of_nodes_to_point([x_m, y_m])\n",
    "\n",
    "            nodes_on_circumference = []\n",
    "            j = 0\n",
    "            for distance in dists:\n",
    "                if (distance <= circle_radius[count]+0.025) and (distance > circle_radius[count]-0.025):\n",
    "                    nodes_on_circumference.append(j)\n",
    "                j += 1\n",
    "                \n",
    "            circ_flux = np.array([flux[k] for k in nodes_on_circumference])\n",
    "\n",
    "            fluxes[count][i] = np.mean(circ_flux)\n",
    "            i += 1\n",
    "\n",
    "        count += 1"
   ]
  },
  {
   "cell_type": "code",
   "execution_count": null,
   "id": "2a8d2602",
   "metadata": {},
   "outputs": [],
   "source": [
    "time = np.arange(0, 61) * 0.5\n",
    "colors = [\"#D55E00\", \"#0072B2\", \"#CC79A7\", \"#F0E442\", \"#D55E00\"]\n",
    "\n",
    "plt.plot(time, fluxes[0][:-1], label = \"$\\\\ell = 0.029$ m\", color = colors[0], linewidth = 3, linestyle = 'solid')\n",
    "plt.plot(time, fluxes[1][:-1], label = \"$\\\\ell = 0.144$ m\", color = colors[1], linewidth = 3, linestyle = 'dashed')\n",
    "plt.plot(time, fluxes[2][:-1], label = \"$\\\\ell = 0.289$ m\", color = colors[2], linewidth = 3, linestyle = 'dashdot')\n",
    "\n",
    "plt.xlabel('Time (days)')\n",
    "plt.ylabel('$\\\\overline{Q}$ (m$^2$/day)')\n",
    "plt.legend(title = \"Length Scale\")"
   ]
  },
  {
   "cell_type": "code",
   "execution_count": null,
   "id": "ce5d9a6f",
   "metadata": {},
   "outputs": [],
   "source": [
    "ice1 = 'infinite-pit-trans_1_s_trans.csv'\n",
    "topo1 = 'infinite-pit-trans_1_z_trans.csv'\n",
    "ice2 = 'infinite-pit-trans_2_s_trans.csv'\n",
    "topo2 = 'infinite-pit-trans_2_z_trans.csv'\n",
    "ice3 = 'infinite-pit-trans_3_s_trans.csv'\n",
    "topo3 = 'infinite-pit-trans_3_z_trans.csv'\n",
    "\n",
    "ice1df = pd.read_csv(ice1)\n",
    "topo1df = pd.read_csv(topo1)\n",
    "ice2df = pd.read_csv(ice2)\n",
    "topo2df = pd.read_csv(topo2)\n",
    "ice3df = pd.read_csv(ice3)\n",
    "topo3df = pd.read_csv(topo3)"
   ]
  },
  {
   "cell_type": "code",
   "execution_count": null,
   "id": "0531e070",
   "metadata": {},
   "outputs": [],
   "source": [
    "plt.plot(topo1df['x']-3.75, topo1df['30.0']-98.8, color = 'k', label = \"$\\\\ell = 0.029$ m\", linestyle = 'dashed')\n",
    "plt.plot(ice1df['x']-3.75, ice1df['30.0']-98.8, color = 'steelblue', linestyle = 'dashed')\n",
    "\n",
    "plt.plot(topo3df['x']-3.75, topo3df['30.0']-98.8, color = 'k', linestyle = 'solid', label = \"$\\\\ell = 0.289$ m\")\n",
    "plt.plot(ice3df['x']-3.75, ice3df['30.0']-98.8, color = 'steelblue', linestyle = 'solid')\n",
    "plt.xlim([0, 1.5])\n",
    "plt.ylim([-0.05, 0.9])\n",
    "plt.xlabel('$x$ (m)', fontsize = 11)\n",
    "plt.ylabel(\"$z'$ (m)\", fontsize = 11)\n",
    "plt.annotate('30 days\\n$b_0$ = 0.04 m/day\\nD = 0.001 m$^2$/day\\n$\\ell = 0.029$ m', xycoords = 'axes fraction', xy = (0.15, 0.78))\n",
    "plt.annotate('30 days\\n$b_0$ = 0.04 m/day\\nD = 0.01 m$^2$/day\\n$\\ell = 0.289$ m', xycoords = 'axes fraction', xy = (0.6, 0.23))\n",
    "plt.annotate('$\\\\ell = \\\\frac{DS_c}{b_0}$', xycoords = 'axes fraction', xy = (0.65, 0.84), fontsize = 20)\n",
    "#plt.legend()\n",
    "#plt.axis('equal')\n",
    "#plt.savefig('infinite-pits-debris.png', dpi = 300)\n",
    "plt.show()"
   ]
  },
  {
   "cell_type": "code",
   "execution_count": null,
   "id": "8a0b0028",
   "metadata": {},
   "outputs": [],
   "source": [
    "deb1 = np.array(topo1df.iloc[161] - ice1df.iloc[161])\n",
    "deb2 = np.array(topo2df.iloc[161] - ice2df.iloc[161])\n",
    "deb3 = np.array(topo3df.iloc[161] - ice3df.iloc[161])\n",
    "\n",
    "melt1 = 0.04 * 0.08 / (0.08 + deb1)\n",
    "melt2 = 0.04 * 0.08 / (0.08 + deb2)\n",
    "melt3 = 0.04 * 0.08 / (0.08 + deb3)"
   ]
  },
  {
   "cell_type": "code",
   "execution_count": null,
   "id": "e67e45ce",
   "metadata": {},
   "outputs": [],
   "source": [
    "from scipy.signal import savgol_filter"
   ]
  },
  {
   "cell_type": "code",
   "execution_count": null,
   "id": "b2a7a284",
   "metadata": {},
   "outputs": [],
   "source": [
    "plt.plot(topo1df['x']-3.75, savgol_filter(topo1df['30.0'], window_length = 3, polyorder = 1, deriv = 1, delta = 0.025))\n",
    "plt.plot(topo2df['x']-3.75, savgol_filter(topo2df['30.0'], window_length = 3, polyorder = 1, deriv = 1, delta = 0.025))\n",
    "plt.plot(topo3df['x']-3.75, savgol_filter(topo3df['30.0'], window_length = 3, polyorder = 1, deriv = 1, delta = 0.025))\n",
    "plt.xlim([0, 1.5])\n",
    "plt.ylim([-1.4, 0.1])\n",
    "plt.axhline(-1.15, color = 'k', linestyle = 'dashed')\n",
    "#plt.axvline(3.95-3.75, color = 'k', linewidth = 0.5)\n",
    "plt.axvline(4.025-3.75, color = 'k', linewidth = 0.5)"
   ]
  },
  {
   "cell_type": "code",
   "execution_count": null,
   "id": "e65e17b8",
   "metadata": {},
   "outputs": [],
   "source": [
    "colors = [\"#D55E00\", \"#0072B2\", \"#CC79A7\", \"#F0E442\", \"#D55E00\"]\n",
    "time = np.arange(0, 61) * 0.5\n",
    "fig, ax = plt.subplots(3, 1, figsize = (4, 8))\n",
    "\n",
    "\n",
    "ax[0].plot(time, fluxes[0][:-1], label = \"$\\\\ell = 0.029$ m\", color = colors[0], linewidth = 3, linestyle = 'solid')\n",
    "ax[0].plot(time, fluxes[1][:-1], label = \"$\\\\ell = 0.144$ m\", color = colors[1], linewidth = 3, linestyle = 'dashed')\n",
    "ax[0].plot(time, fluxes[2][:-1], label = \"$\\\\ell = 0.289$ m\", color = colors[2], linewidth = 3, linestyle = 'dashdot')\n",
    "ax[0].set_ylabel(\"$\\\\overline{Q}$ (m$^2$/day)\", fontsize = 11)\n",
    "ax[0].legend()\n",
    "\n",
    "ax[1].plot(np.arange(0, len(deb1[1:]))*0.5, deb1[1:], color = colors[0], linewidth = 3, linestyle = 'solid', label = \"$\\\\ell = 0.029$ m\")\n",
    "ax[1].plot(np.arange(0, len(deb2[1:]))*0.5, deb2[1:], color = colors[1], linewidth = 3, linestyle = 'dashed', label = \"$\\\\ell = 0.144$ m\")\n",
    "ax[1].plot(np.arange(0, len(deb3[1:]))*0.5, deb3[1:], color = colors[2], linewidth = 3, linestyle = 'dashdot', label = \"$\\\\ell = 0.289$ m\")\n",
    "ax[1].set_ylabel(\"Debris Thickness (m)\", fontsize = 11)\n",
    "ax[1].legend()\n",
    "#ax[1].annotate('$\\ell = 0.029$ m', xycoords = 'axes fraction', xy = (0.28, 0.94), fontsize = 8)\n",
    "#ax[1].annotate('$\\ell = 0.144$ m', xycoords = 'axes fraction', xy = (0.5, 0.72), fontsize = 8)\n",
    "#ax[1].annotate('$\\ell = 0.289$ m', xycoords = 'axes fraction', xy = (0.7, 0.52), fontsize = 8)\n",
    "\n",
    "ax[2].plot(np.arange(0, len(melt1[1:]))*0.5, melt1[1:], color = colors[0], linewidth = 3, linestyle = 'solid', label = \"$\\\\ell = 0.029$ m\")\n",
    "ax[2].plot(np.arange(0, len(melt2[1:]))*0.5, melt2[1:], color = colors[1], linewidth = 3, linestyle = 'dashed', label = \"$\\\\ell = 0.144$ m\")\n",
    "ax[2].plot(np.arange(0, len(melt3[1:]))*0.5, melt3[1:], color = colors[2], linewidth = 3, linestyle = 'dashdot', label = \"$\\\\ell = 0.289$ m\")\n",
    "ax[2].set_ylabel(\"Melt Rate (m/day)\", fontsize = 11)\n",
    "ax[2].set_xlabel('Days', fontsize = 11)\n",
    "ax[2].legend()\n",
    "#ax[2].annotate('$\\ell = 0.029$ m', xycoords = 'axes fraction', xy = (0.75, 0.09), fontsize = 8)\n",
    "#ax[2].annotate('$\\ell = 0.144$ m', xycoords = 'axes fraction', xy = (0.65, 0.27), fontsize = 8)\n",
    "#ax[2].annotate('$\\ell = 0.289$ m', xycoords = 'axes fraction', xy = (0.5, 0.35), fontsize = 8)\n",
    "\n",
    "ax[0].annotate(\"(a)\", xy = (-0.25, 1.05), xycoords = \"axes fraction\", fontsize = 12)\n",
    "ax[1].annotate(\"(b)\", xy = (-0.25, 1.05), xycoords = \"axes fraction\", fontsize = 12)\n",
    "ax[2].annotate(\"(c)\", xy = (-0.25, 1.05), xycoords = \"axes fraction\", fontsize = 12)\n",
    "\n",
    "plt.tight_layout()\n",
    "#plt.savefig('infinite-pits-flux-h.png', dpi = 300)\n",
    "plt.show()\n"
   ]
  },
  {
   "cell_type": "code",
   "execution_count": null,
   "id": "90395b2a",
   "metadata": {},
   "outputs": [],
   "source": []
  }
 ],
 "metadata": {
  "kernelspec": {
   "display_name": "Python 3 (ipykernel)",
   "language": "python",
   "name": "python3"
  },
  "language_info": {
   "codemirror_mode": {
    "name": "ipython",
    "version": 3
   },
   "file_extension": ".py",
   "mimetype": "text/x-python",
   "name": "python",
   "nbconvert_exporter": "python",
   "pygments_lexer": "ipython3",
   "version": "3.8.3"
  }
 },
 "nbformat": 4,
 "nbformat_minor": 5
}
