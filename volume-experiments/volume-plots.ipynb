{
 "cells": [
  {
   "cell_type": "code",
   "execution_count": null,
   "id": "44fdd9e1",
   "metadata": {},
   "outputs": [],
   "source": [
    "import pandas as pd\n",
    "import matplotlib.pyplot as plt\n",
    "import numpy as np\n",
    "import seaborn as sns\n",
    "from scipy.stats import linregress"
   ]
  },
  {
   "cell_type": "code",
   "execution_count": null,
   "id": "5c85389f",
   "metadata": {},
   "outputs": [],
   "source": [
    "df = pd.read_csv('volume-experiments_index.txt', delimiter = '\\t')\n",
    "\n",
    "df"
   ]
  },
  {
   "cell_type": "code",
   "execution_count": null,
   "id": "39bb0548",
   "metadata": {},
   "outputs": [],
   "source": [
    "df['volume'] = df['debris_depth'] * np.pi * df['debris_radius']**2"
   ]
  },
  {
   "cell_type": "code",
   "execution_count": null,
   "id": "ff9a9f49",
   "metadata": {},
   "outputs": [],
   "source": [
    "colors = [\"#D55E00\", \"#0072B2\", \"#CC79A7\", \"#F0E442\", \"#D55E00\"]\n",
    "\n",
    "m, b, p, r, se = linregress(np.log10(df['volume']), np.log10(df['cone_height']))\n",
    "\n",
    "v = np.linspace(10**(-2), 7, 10)\n",
    "fig, ax = plt.subplots(figsize = (4, 3))\n",
    "ax.plot(df['volume'], df['cone_height'], 'o', color = colors[1])\n",
    "ax.plot(v, 10**(b)*v**m, color = colors[0], linestyle = 'dashed', linewidth = 3)\n",
    "ax.set_xscale('log')\n",
    "ax.set_yscale('log')\n",
    "ax.set_xlabel('Debris Volume, $V$ (m$^3$)', fontsize = 11)\n",
    "ax.set_ylabel(\"Cone Height, $z'$ (m)\", fontsize = 11)\n",
    "plt.annotate(\"$z' \\\\sim V^{0.48}$\", xy = (0.2, 0.6), xycoords = 'axes fraction', fontsize = 14)\n",
    "sns.despine()\n",
    "plt.tight_layout()\n",
    "plt.savefig('volume-vs-height.png', dpi = 300)"
   ]
  },
  {
   "cell_type": "code",
   "execution_count": null,
   "id": "81227922",
   "metadata": {},
   "outputs": [],
   "source": []
  }
 ],
 "metadata": {
  "kernelspec": {
   "display_name": "Python 3 (ipykernel)",
   "language": "python",
   "name": "python3"
  },
  "language_info": {
   "codemirror_mode": {
    "name": "ipython",
    "version": 3
   },
   "file_extension": ".py",
   "mimetype": "text/x-python",
   "name": "python",
   "nbconvert_exporter": "python",
   "pygments_lexer": "ipython3",
   "version": "3.8.3"
  }
 },
 "nbformat": 4,
 "nbformat_minor": 5
}
